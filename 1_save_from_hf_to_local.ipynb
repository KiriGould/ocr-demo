{
 "cells": [
  {
   "cell_type": "code",
   "execution_count": 1,
   "id": "175e708a-20c6-43ef-922f-a7f86eb6f847",
   "metadata": {
    "tags": []
   },
   "outputs": [
    {
     "name": "stdout",
     "output_type": "stream",
     "text": [
      "Requirement already satisfied: optimum[exporters] in /opt/app-root/lib/python3.9/site-packages (1.14.1)\n",
      "Requirement already satisfied: numpy in /opt/app-root/lib/python3.9/site-packages (from optimum[exporters]) (1.24.4)\n",
      "Requirement already satisfied: transformers[sentencepiece]>=4.26.0 in /opt/app-root/lib/python3.9/site-packages (from optimum[exporters]) (4.35.2)\n",
      "Requirement already satisfied: coloredlogs in /opt/app-root/lib/python3.9/site-packages (from optimum[exporters]) (15.0.1)\n",
      "Requirement already satisfied: packaging in /opt/app-root/lib/python3.9/site-packages (from optimum[exporters]) (23.1)\n",
      "Requirement already satisfied: datasets in /opt/app-root/lib/python3.9/site-packages (from optimum[exporters]) (2.15.0)\n",
      "Requirement already satisfied: huggingface-hub>=0.8.0 in /opt/app-root/lib/python3.9/site-packages (from optimum[exporters]) (0.19.4)\n",
      "Requirement already satisfied: torch>=1.9 in /opt/app-root/lib/python3.9/site-packages (from optimum[exporters]) (1.13.1)\n",
      "Requirement already satisfied: sympy in /opt/app-root/lib/python3.9/site-packages (from optimum[exporters]) (1.12)\n",
      "Requirement already satisfied: onnx in /opt/app-root/lib/python3.9/site-packages (from optimum[exporters]) (1.15.0)\n",
      "Requirement already satisfied: timm in /opt/app-root/lib/python3.9/site-packages (from optimum[exporters]) (0.9.11)\n",
      "Requirement already satisfied: onnxruntime in /opt/app-root/lib/python3.9/site-packages (from optimum[exporters]) (1.16.3)\n",
      "Requirement already satisfied: tqdm>=4.42.1 in /opt/app-root/lib/python3.9/site-packages (from huggingface-hub>=0.8.0->optimum[exporters]) (4.66.1)\n",
      "Requirement already satisfied: filelock in /opt/app-root/lib/python3.9/site-packages (from huggingface-hub>=0.8.0->optimum[exporters]) (3.13.1)\n",
      "Requirement already satisfied: fsspec>=2023.5.0 in /opt/app-root/lib/python3.9/site-packages (from huggingface-hub>=0.8.0->optimum[exporters]) (2023.10.0)\n",
      "Requirement already satisfied: pyyaml>=5.1 in /opt/app-root/lib/python3.9/site-packages (from huggingface-hub>=0.8.0->optimum[exporters]) (6.0.1)\n",
      "Requirement already satisfied: requests in /opt/app-root/lib/python3.9/site-packages (from huggingface-hub>=0.8.0->optimum[exporters]) (2.31.0)\n",
      "Requirement already satisfied: typing-extensions>=3.7.4.3 in /opt/app-root/lib/python3.9/site-packages (from huggingface-hub>=0.8.0->optimum[exporters]) (4.7.1)\n",
      "Requirement already satisfied: nvidia-cudnn-cu11==8.5.0.96 in /opt/app-root/lib/python3.9/site-packages (from torch>=1.9->optimum[exporters]) (8.5.0.96)\n",
      "Requirement already satisfied: nvidia-cuda-runtime-cu11==11.7.99 in /opt/app-root/lib/python3.9/site-packages (from torch>=1.9->optimum[exporters]) (11.7.99)\n",
      "Requirement already satisfied: nvidia-cuda-nvrtc-cu11==11.7.99 in /opt/app-root/lib/python3.9/site-packages (from torch>=1.9->optimum[exporters]) (11.7.99)\n",
      "Requirement already satisfied: nvidia-cublas-cu11==11.10.3.66 in /opt/app-root/lib/python3.9/site-packages (from torch>=1.9->optimum[exporters]) (11.10.3.66)\n",
      "Requirement already satisfied: wheel in /opt/app-root/lib/python3.9/site-packages (from nvidia-cublas-cu11==11.10.3.66->torch>=1.9->optimum[exporters]) (0.38.4)\n",
      "Requirement already satisfied: setuptools in /opt/app-root/lib/python3.9/site-packages (from nvidia-cublas-cu11==11.10.3.66->torch>=1.9->optimum[exporters]) (68.1.0)\n",
      "Requirement already satisfied: regex!=2019.12.17 in /opt/app-root/lib/python3.9/site-packages (from transformers[sentencepiece]>=4.26.0->optimum[exporters]) (2023.10.3)\n",
      "Requirement already satisfied: tokenizers<0.19,>=0.14 in /opt/app-root/lib/python3.9/site-packages (from transformers[sentencepiece]>=4.26.0->optimum[exporters]) (0.15.0)\n",
      "Requirement already satisfied: safetensors>=0.3.1 in /opt/app-root/lib/python3.9/site-packages (from transformers[sentencepiece]>=4.26.0->optimum[exporters]) (0.4.0)\n",
      "Requirement already satisfied: sentencepiece!=0.1.92,>=0.1.91 in /opt/app-root/lib/python3.9/site-packages (from transformers[sentencepiece]>=4.26.0->optimum[exporters]) (0.1.99)\n",
      "Requirement already satisfied: protobuf in /opt/app-root/lib/python3.9/site-packages (from transformers[sentencepiece]>=4.26.0->optimum[exporters]) (3.20.3)\n",
      "Requirement already satisfied: humanfriendly>=9.1 in /opt/app-root/lib/python3.9/site-packages (from coloredlogs->optimum[exporters]) (10.0)\n",
      "Requirement already satisfied: dill<0.3.8,>=0.3.0 in /opt/app-root/lib/python3.9/site-packages (from datasets->optimum[exporters]) (0.3.7)\n",
      "Requirement already satisfied: pandas in /opt/app-root/lib/python3.9/site-packages (from datasets->optimum[exporters]) (1.5.3)\n",
      "Requirement already satisfied: pyarrow-hotfix in /opt/app-root/lib/python3.9/site-packages (from datasets->optimum[exporters]) (0.6)\n",
      "Requirement already satisfied: pyarrow>=8.0.0 in /opt/app-root/lib/python3.9/site-packages (from datasets->optimum[exporters]) (14.0.1)\n",
      "Requirement already satisfied: aiohttp in /opt/app-root/lib/python3.9/site-packages (from datasets->optimum[exporters]) (3.8.5)\n",
      "Requirement already satisfied: xxhash in /opt/app-root/lib/python3.9/site-packages (from datasets->optimum[exporters]) (3.4.1)\n",
      "Requirement already satisfied: multiprocess in /opt/app-root/lib/python3.9/site-packages (from datasets->optimum[exporters]) (0.70.15)\n",
      "Requirement already satisfied: flatbuffers in /opt/app-root/lib/python3.9/site-packages (from onnxruntime->optimum[exporters]) (23.5.26)\n",
      "Requirement already satisfied: mpmath>=0.19 in /opt/app-root/lib/python3.9/site-packages (from sympy->optimum[exporters]) (1.3.0)\n",
      "Requirement already satisfied: torchvision in /opt/app-root/lib/python3.9/site-packages (from timm->optimum[exporters]) (0.14.1)\n",
      "Requirement already satisfied: charset-normalizer<4.0,>=2.0 in /opt/app-root/lib/python3.9/site-packages (from aiohttp->datasets->optimum[exporters]) (3.2.0)\n",
      "Requirement already satisfied: yarl<2.0,>=1.0 in /opt/app-root/lib/python3.9/site-packages (from aiohttp->datasets->optimum[exporters]) (1.9.2)\n",
      "Requirement already satisfied: aiosignal>=1.1.2 in /opt/app-root/lib/python3.9/site-packages (from aiohttp->datasets->optimum[exporters]) (1.3.1)\n",
      "Requirement already satisfied: async-timeout<5.0,>=4.0.0a3 in /opt/app-root/lib/python3.9/site-packages (from aiohttp->datasets->optimum[exporters]) (4.0.3)\n",
      "Requirement already satisfied: frozenlist>=1.1.1 in /opt/app-root/lib/python3.9/site-packages (from aiohttp->datasets->optimum[exporters]) (1.4.0)\n",
      "Requirement already satisfied: multidict<7.0,>=4.5 in /opt/app-root/lib/python3.9/site-packages (from aiohttp->datasets->optimum[exporters]) (6.0.4)\n",
      "Requirement already satisfied: attrs>=17.3.0 in /opt/app-root/lib/python3.9/site-packages (from aiohttp->datasets->optimum[exporters]) (23.1.0)\n",
      "Requirement already satisfied: certifi>=2017.4.17 in /opt/app-root/lib/python3.9/site-packages (from requests->huggingface-hub>=0.8.0->optimum[exporters]) (2023.7.22)\n",
      "Requirement already satisfied: idna<4,>=2.5 in /opt/app-root/lib/python3.9/site-packages (from requests->huggingface-hub>=0.8.0->optimum[exporters]) (3.4)\n",
      "Requirement already satisfied: urllib3<3,>=1.21.1 in /opt/app-root/lib/python3.9/site-packages (from requests->huggingface-hub>=0.8.0->optimum[exporters]) (1.26.16)\n",
      "Requirement already satisfied: pytz>=2020.1 in /opt/app-root/lib/python3.9/site-packages (from pandas->datasets->optimum[exporters]) (2023.3)\n",
      "Requirement already satisfied: python-dateutil>=2.8.1 in /opt/app-root/lib/python3.9/site-packages (from pandas->datasets->optimum[exporters]) (2.8.2)\n",
      "Requirement already satisfied: pillow!=8.3.*,>=5.3.0 in /opt/app-root/lib/python3.9/site-packages (from torchvision->timm->optimum[exporters]) (10.0.0)\n",
      "Requirement already satisfied: six>=1.5 in /opt/app-root/lib/python3.9/site-packages (from python-dateutil>=2.8.1->pandas->datasets->optimum[exporters]) (1.16.0)\n",
      "\n",
      "\u001b[1m[\u001b[0m\u001b[34;49mnotice\u001b[0m\u001b[1;39;49m]\u001b[0m\u001b[39;49m A new release of pip available: \u001b[0m\u001b[31;49m22.2.2\u001b[0m\u001b[39;49m -> \u001b[0m\u001b[32;49m23.3.1\u001b[0m\n",
      "\u001b[1m[\u001b[0m\u001b[34;49mnotice\u001b[0m\u001b[1;39;49m]\u001b[0m\u001b[39;49m To update, run: \u001b[0m\u001b[32;49mpip install --upgrade pip\u001b[0m\n"
     ]
    }
   ],
   "source": [
    "! pip install optimum[exporters]"
   ]
  },
  {
   "cell_type": "code",
   "execution_count": 2,
   "id": "e0aefb91-a2fb-43e2-b56b-beaa7e2c7d1f",
   "metadata": {},
   "outputs": [],
   "source": [
    "model_name = \"microsoft/trocr-base-printed\"\n",
    "working_folder = \"my_folder/\""
   ]
  },
  {
   "cell_type": "code",
   "execution_count": 3,
   "id": "e43ed62e-dc46-4ae3-a0b0-b995219b550d",
   "metadata": {
    "tags": []
   },
   "outputs": [
    {
     "name": "stdout",
     "output_type": "stream",
     "text": [
      "Framework not specified. Using pt to export to ONNX.\n",
      "Some weights of VisionEncoderDecoderModel were not initialized from the model checkpoint at microsoft/trocr-base-printed and are newly initialized: ['encoder.pooler.dense.bias', 'encoder.pooler.dense.weight']\n",
      "You should probably TRAIN this model on a down-stream task to be able to use it for predictions and inference.\n",
      "The task `image-to-text` was manually specified, and past key values will not be reused in the decoding. if needed, please pass `--task image-to-text-with-past` to export using the past key values.\n",
      "/opt/app-root/lib64/python3.9/site-packages/transformers/models/vit/feature_extraction_vit.py:28: FutureWarning: The class ViTFeatureExtractor is deprecated and will be removed in version 5 of Transformers. Please use ViTImageProcessor instead.\n",
      "  warnings.warn(\n",
      "Using the export variant default. Available variants are:\n",
      "    - default: The default ONNX variant.\n",
      "/opt/app-root/lib64/python3.9/site-packages/transformers/models/vit/feature_extraction_vit.py:28: FutureWarning: The class ViTFeatureExtractor is deprecated and will be removed in version 5 of Transformers. Please use ViTImageProcessor instead.\n",
      "  warnings.warn(\n",
      "Using framework PyTorch: 1.13.1+cu117\n",
      "/opt/app-root/lib64/python3.9/site-packages/transformers/models/vit/modeling_vit.py:170: TracerWarning: Converting a tensor to a Python boolean might cause the trace to be incorrect. We can't record the data flow of Python values, so this value will be treated as a constant in the future. This means that the trace might not generalize to other inputs!\n",
      "  if num_channels != self.num_channels:\n",
      "/opt/app-root/lib64/python3.9/site-packages/transformers/models/vit/modeling_vit.py:176: TracerWarning: Converting a tensor to a Python boolean might cause the trace to be incorrect. We can't record the data flow of Python values, so this value will be treated as a constant in the future. This means that the trace might not generalize to other inputs!\n",
      "  if height != self.image_size[0] or width != self.image_size[1]:\n",
      "/opt/app-root/lib64/python3.9/site-packages/transformers/modeling_attn_mask_utils.py:66: TracerWarning: Converting a tensor to a Python boolean might cause the trace to be incorrect. We can't record the data flow of Python values, so this value will be treated as a constant in the future. This means that the trace might not generalize to other inputs!\n",
      "  if input_shape[-1] > 1 or self.sliding_window is not None:\n",
      "/opt/app-root/lib64/python3.9/site-packages/transformers/modeling_attn_mask_utils.py:137: TracerWarning: Converting a tensor to a Python boolean might cause the trace to be incorrect. We can't record the data flow of Python values, so this value will be treated as a constant in the future. This means that the trace might not generalize to other inputs!\n",
      "  if past_key_values_length > 0:\n",
      "/opt/app-root/lib64/python3.9/site-packages/transformers/models/trocr/modeling_trocr.py:226: TracerWarning: Converting a tensor to a Python boolean might cause the trace to be incorrect. We can't record the data flow of Python values, so this value will be treated as a constant in the future. This means that the trace might not generalize to other inputs!\n",
      "  if attn_weights.size() != (bsz * self.num_heads, tgt_len, src_len):\n",
      "/opt/app-root/lib64/python3.9/site-packages/transformers/models/trocr/modeling_trocr.py:233: TracerWarning: Converting a tensor to a Python boolean might cause the trace to be incorrect. We can't record the data flow of Python values, so this value will be treated as a constant in the future. This means that the trace might not generalize to other inputs!\n",
      "  if attention_mask.size() != (bsz, 1, tgt_len, src_len):\n",
      "/opt/app-root/lib64/python3.9/site-packages/transformers/models/trocr/modeling_trocr.py:265: TracerWarning: Converting a tensor to a Python boolean might cause the trace to be incorrect. We can't record the data flow of Python values, so this value will be treated as a constant in the future. This means that the trace might not generalize to other inputs!\n",
      "  if attn_output.size() != (bsz * self.num_heads, tgt_len, self.head_dim):\n",
      "Validating ONNX model my_folder/model.onnx...\n",
      "\t-[✓] ONNX model output names match reference model (logits)\n",
      "\t- Validating ONNX Model output \"logits\":\n",
      "\t\t-[✓] (2, 16, 50265) matches (2, 16, 50265)\n",
      "\t\t-[✓] all values close (atol: 0.001)\n",
      "The ONNX export succeeded and the exported model was saved at: my_folder\n"
     ]
    }
   ],
   "source": [
    "! optimum-cli export onnx --task image-to-text --monolith --no-post-process -m {model_name} {working_folder}"
   ]
  }
 ],
 "metadata": {
  "kernelspec": {
   "display_name": "Python 3.9",
   "language": "python",
   "name": "python3"
  },
  "language_info": {
   "codemirror_mode": {
    "name": "ipython",
    "version": 3
   },
   "file_extension": ".py",
   "mimetype": "text/x-python",
   "name": "python",
   "nbconvert_exporter": "python",
   "pygments_lexer": "ipython3",
   "version": "3.9.16"
  }
 },
 "nbformat": 4,
 "nbformat_minor": 5
}
